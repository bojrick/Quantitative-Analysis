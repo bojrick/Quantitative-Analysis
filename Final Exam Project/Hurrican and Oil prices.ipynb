{
 "metadata": {
  "language_info": {
   "codemirror_mode": {
    "name": "ipython",
    "version": 3
   },
   "file_extension": ".py",
   "mimetype": "text/x-python",
   "name": "python",
   "nbconvert_exporter": "python",
   "pygments_lexer": "ipython3",
   "version": "3.8.3-final"
  },
  "orig_nbformat": 2,
  "kernelspec": {
   "name": "python3",
   "display_name": "Python 3",
   "language": "python"
  }
 },
 "nbformat": 4,
 "nbformat_minor": 2,
 "cells": [
  {
   "cell_type": "code",
   "execution_count": 57,
   "metadata": {},
   "outputs": [
    {
     "output_type": "execute_result",
     "data": {
      "text/plain": [
       "              DATE  PRICE            SID  SEASON  NUMBER BASIN  \\\n",
       "0       1970-01-31   3.21  1970027S12130  1970.0    10.0    SI   \n",
       "1       1970-01-31   3.21  1970027S12130  1970.0    10.0    SI   \n",
       "2       1970-01-31   3.21  1970027S12130  1970.0    10.0    SI   \n",
       "3       1970-01-31   3.21  1970027S12130  1970.0    10.0    SI   \n",
       "4       1970-01-31   3.21  1970027S12130  1970.0    10.0    SI   \n",
       "...            ...    ...            ...     ...     ...   ...   \n",
       "203414  2020-07-06  40.51  2020188N09263  2020.0    37.0    EP   \n",
       "203415  2020-07-06  40.51  2020188N09263  2020.0    37.0    EP   \n",
       "203416  2020-07-06  40.51  2020188N09263  2020.0    37.0    EP   \n",
       "203417  2020-07-06  40.51  2020188N09263  2020.0    37.0    EP   \n",
       "203418  2020-07-06  40.51  2020188N09263  2020.0    37.0    EP   \n",
       "\n",
       "                   ISO_TIME NATURE       LAT       LON  ... BOM_TYPE BOM_WIND  \\\n",
       "0       1970-01-31 00:00:00     TS -16.12520  116.8650  ...                     \n",
       "1       1970-01-31 01:00:00     TS -16.24370  116.7860  ...                     \n",
       "2       1970-01-31 03:00:00     TS -16.44680  116.6600  ...                     \n",
       "3       1970-01-31 06:00:00     TS -16.72050  116.5140  ...                     \n",
       "4       1970-01-31 09:00:00     TS -16.97200  116.3880  ...                     \n",
       "...                     ...    ...       ...       ...  ...      ...      ...   \n",
       "203414  2020-07-06 09:00:00     DS   9.78492  -98.4276  ...                     \n",
       "203415  2020-07-06 12:00:00     DS   9.90000  -98.7000  ...                     \n",
       "203416  2020-07-06 15:00:00     DS  10.06990  -99.0402  ...                     \n",
       "203417  2020-07-06 18:00:00     TS  10.26670  -99.4000  ...                     \n",
       "203418  2020-07-06 21:00:00     TS  10.59040 -100.1020  ...                     \n",
       "\n",
       "       NADI_CAT NADI_WIND WELLINGTON_WIND DS824_WIND NEUMANN_WIND MLC_WIND  \\\n",
       "0                                                 50           55            \n",
       "1                                                              55            \n",
       "2                                                              55            \n",
       "3                                                              55            \n",
       "4                                                              55            \n",
       "...         ...       ...             ...        ...          ...      ...   \n",
       "203414                                                                       \n",
       "203415                                                                       \n",
       "203416                                                                       \n",
       "203417                                                                       \n",
       "203418                                                                       \n",
       "\n",
       "       STORM_SPEED STORM_DIR  \n",
       "0                9       215  \n",
       "1                8       212  \n",
       "2                7       208  \n",
       "3                6       206  \n",
       "4                6       204  \n",
       "...            ...       ...  \n",
       "203414           5       292  \n",
       "203415           7       295  \n",
       "203416           8       298  \n",
       "203417          12       296  \n",
       "203418          15       295  \n",
       "\n",
       "[203419 rows x 33 columns]"
      ],
      "text/html": "<div>\n<style scoped>\n    .dataframe tbody tr th:only-of-type {\n        vertical-align: middle;\n    }\n\n    .dataframe tbody tr th {\n        vertical-align: top;\n    }\n\n    .dataframe thead th {\n        text-align: right;\n    }\n</style>\n<table border=\"1\" class=\"dataframe\">\n  <thead>\n    <tr style=\"text-align: right;\">\n      <th></th>\n      <th>DATE</th>\n      <th>PRICE</th>\n      <th>SID</th>\n      <th>SEASON</th>\n      <th>NUMBER</th>\n      <th>BASIN</th>\n      <th>ISO_TIME</th>\n      <th>NATURE</th>\n      <th>LAT</th>\n      <th>LON</th>\n      <th>...</th>\n      <th>BOM_TYPE</th>\n      <th>BOM_WIND</th>\n      <th>NADI_CAT</th>\n      <th>NADI_WIND</th>\n      <th>WELLINGTON_WIND</th>\n      <th>DS824_WIND</th>\n      <th>NEUMANN_WIND</th>\n      <th>MLC_WIND</th>\n      <th>STORM_SPEED</th>\n      <th>STORM_DIR</th>\n    </tr>\n  </thead>\n  <tbody>\n    <tr>\n      <th>0</th>\n      <td>1970-01-31</td>\n      <td>3.21</td>\n      <td>1970027S12130</td>\n      <td>1970.0</td>\n      <td>10.0</td>\n      <td>SI</td>\n      <td>1970-01-31 00:00:00</td>\n      <td>TS</td>\n      <td>-16.12520</td>\n      <td>116.8650</td>\n      <td>...</td>\n      <td></td>\n      <td></td>\n      <td></td>\n      <td></td>\n      <td></td>\n      <td>50</td>\n      <td>55</td>\n      <td></td>\n      <td>9</td>\n      <td>215</td>\n    </tr>\n    <tr>\n      <th>1</th>\n      <td>1970-01-31</td>\n      <td>3.21</td>\n      <td>1970027S12130</td>\n      <td>1970.0</td>\n      <td>10.0</td>\n      <td>SI</td>\n      <td>1970-01-31 01:00:00</td>\n      <td>TS</td>\n      <td>-16.24370</td>\n      <td>116.7860</td>\n      <td>...</td>\n      <td></td>\n      <td></td>\n      <td></td>\n      <td></td>\n      <td></td>\n      <td></td>\n      <td>55</td>\n      <td></td>\n      <td>8</td>\n      <td>212</td>\n    </tr>\n    <tr>\n      <th>2</th>\n      <td>1970-01-31</td>\n      <td>3.21</td>\n      <td>1970027S12130</td>\n      <td>1970.0</td>\n      <td>10.0</td>\n      <td>SI</td>\n      <td>1970-01-31 03:00:00</td>\n      <td>TS</td>\n      <td>-16.44680</td>\n      <td>116.6600</td>\n      <td>...</td>\n      <td></td>\n      <td></td>\n      <td></td>\n      <td></td>\n      <td></td>\n      <td></td>\n      <td>55</td>\n      <td></td>\n      <td>7</td>\n      <td>208</td>\n    </tr>\n    <tr>\n      <th>3</th>\n      <td>1970-01-31</td>\n      <td>3.21</td>\n      <td>1970027S12130</td>\n      <td>1970.0</td>\n      <td>10.0</td>\n      <td>SI</td>\n      <td>1970-01-31 06:00:00</td>\n      <td>TS</td>\n      <td>-16.72050</td>\n      <td>116.5140</td>\n      <td>...</td>\n      <td></td>\n      <td></td>\n      <td></td>\n      <td></td>\n      <td></td>\n      <td></td>\n      <td>55</td>\n      <td></td>\n      <td>6</td>\n      <td>206</td>\n    </tr>\n    <tr>\n      <th>4</th>\n      <td>1970-01-31</td>\n      <td>3.21</td>\n      <td>1970027S12130</td>\n      <td>1970.0</td>\n      <td>10.0</td>\n      <td>SI</td>\n      <td>1970-01-31 09:00:00</td>\n      <td>TS</td>\n      <td>-16.97200</td>\n      <td>116.3880</td>\n      <td>...</td>\n      <td></td>\n      <td></td>\n      <td></td>\n      <td></td>\n      <td></td>\n      <td></td>\n      <td>55</td>\n      <td></td>\n      <td>6</td>\n      <td>204</td>\n    </tr>\n    <tr>\n      <th>...</th>\n      <td>...</td>\n      <td>...</td>\n      <td>...</td>\n      <td>...</td>\n      <td>...</td>\n      <td>...</td>\n      <td>...</td>\n      <td>...</td>\n      <td>...</td>\n      <td>...</td>\n      <td>...</td>\n      <td>...</td>\n      <td>...</td>\n      <td>...</td>\n      <td>...</td>\n      <td>...</td>\n      <td>...</td>\n      <td>...</td>\n      <td>...</td>\n      <td>...</td>\n      <td>...</td>\n    </tr>\n    <tr>\n      <th>203414</th>\n      <td>2020-07-06</td>\n      <td>40.51</td>\n      <td>2020188N09263</td>\n      <td>2020.0</td>\n      <td>37.0</td>\n      <td>EP</td>\n      <td>2020-07-06 09:00:00</td>\n      <td>DS</td>\n      <td>9.78492</td>\n      <td>-98.4276</td>\n      <td>...</td>\n      <td></td>\n      <td></td>\n      <td></td>\n      <td></td>\n      <td></td>\n      <td></td>\n      <td></td>\n      <td></td>\n      <td>5</td>\n      <td>292</td>\n    </tr>\n    <tr>\n      <th>203415</th>\n      <td>2020-07-06</td>\n      <td>40.51</td>\n      <td>2020188N09263</td>\n      <td>2020.0</td>\n      <td>37.0</td>\n      <td>EP</td>\n      <td>2020-07-06 12:00:00</td>\n      <td>DS</td>\n      <td>9.90000</td>\n      <td>-98.7000</td>\n      <td>...</td>\n      <td></td>\n      <td></td>\n      <td></td>\n      <td></td>\n      <td></td>\n      <td></td>\n      <td></td>\n      <td></td>\n      <td>7</td>\n      <td>295</td>\n    </tr>\n    <tr>\n      <th>203416</th>\n      <td>2020-07-06</td>\n      <td>40.51</td>\n      <td>2020188N09263</td>\n      <td>2020.0</td>\n      <td>37.0</td>\n      <td>EP</td>\n      <td>2020-07-06 15:00:00</td>\n      <td>DS</td>\n      <td>10.06990</td>\n      <td>-99.0402</td>\n      <td>...</td>\n      <td></td>\n      <td></td>\n      <td></td>\n      <td></td>\n      <td></td>\n      <td></td>\n      <td></td>\n      <td></td>\n      <td>8</td>\n      <td>298</td>\n    </tr>\n    <tr>\n      <th>203417</th>\n      <td>2020-07-06</td>\n      <td>40.51</td>\n      <td>2020188N09263</td>\n      <td>2020.0</td>\n      <td>37.0</td>\n      <td>EP</td>\n      <td>2020-07-06 18:00:00</td>\n      <td>TS</td>\n      <td>10.26670</td>\n      <td>-99.4000</td>\n      <td>...</td>\n      <td></td>\n      <td></td>\n      <td></td>\n      <td></td>\n      <td></td>\n      <td></td>\n      <td></td>\n      <td></td>\n      <td>12</td>\n      <td>296</td>\n    </tr>\n    <tr>\n      <th>203418</th>\n      <td>2020-07-06</td>\n      <td>40.51</td>\n      <td>2020188N09263</td>\n      <td>2020.0</td>\n      <td>37.0</td>\n      <td>EP</td>\n      <td>2020-07-06 21:00:00</td>\n      <td>TS</td>\n      <td>10.59040</td>\n      <td>-100.1020</td>\n      <td>...</td>\n      <td></td>\n      <td></td>\n      <td></td>\n      <td></td>\n      <td></td>\n      <td></td>\n      <td></td>\n      <td></td>\n      <td>15</td>\n      <td>295</td>\n    </tr>\n  </tbody>\n</table>\n<p>203419 rows × 33 columns</p>\n</div>"
     },
     "metadata": {},
     "execution_count": 57
    }
   ],
   "source": [
    "import pandas as pd\n",
    "\n",
    "df = pd.read_csv('merged_data.gzip',compression='gzip').drop('Unnamed: 0',axis=1)\n",
    "df"
   ]
  }
 ]
}